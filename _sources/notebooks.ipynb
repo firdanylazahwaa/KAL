{
 "cells": [
  {
   "cell_type": "markdown",
   "metadata": {},
   "source": [
    "# Sistem Persamaan Linier\n",
    "\n",
    "Sistem Persamaan Linier (SPL) adalah kumpulan dari dua atau lebih persamaan yang memiliki variabel yang sama dan harus diselesaikan secara bersamaan. Dalam SPL, setiap persamaan berbentuk hubungan linier, artinya variabel-variabel dalam persamaan hanya memiliki pangkat satu dan tidak terdapat perkalian antar variabel.\n",
    "\n",
    "-Konsep Dasar SPL\n",
    "Dalam sistem ini, tujuan utama adalah mencari nilai dari variabel yang memenuhi semua persamaan yang ada. Misalnya, jika terdapat dua persamaan dengan dua variabel, kita harus menemukan nilai variabel tersebut sehingga kedua persamaan menjadi benar secara bersamaan.\n",
    "\n",
    "Jenis-Jenis Solusi dalam SPL\n",
    "Memiliki satu solusi unik – Artinya hanya ada satu nilai variabel yang memenuhi semua persamaan dalam sistem.\n",
    "Memiliki banyak solusi (tak hingga) – Artinya ada banyak kemungkinan nilai variabel yang bisa memenuhi semua persamaan. Ini terjadi jika kedua persamaan menggambarkan garis yang sama dalam grafik.\n",
    "Tidak memiliki solusi – Artinya tidak ada nilai variabel yang bisa memenuhi semua persamaan dalam sistem. Ini terjadi jika kedua persamaan mewakili garis yang sejajar dan tidak pernah bertemu.\n",
    "Metode Penyelesaian SPL\n",
    "Ada beberapa metode umum yang digunakan untuk menyelesaikan SPL, di antaranya:\n",
    "\n",
    "Metode Substitusi – Menggunakan salah satu persamaan untuk mengekspresikan satu variabel dalam bentuk variabel lainnya, lalu menggantinya ke persamaan lain.\n",
    "Metode Eliminasi – Mengeliminasi salah satu variabel dengan menjumlahkan atau mengurangkan persamaan sehingga tersisa satu variabel yang bisa diselesaikan.\n",
    "Metode Matriks – Menggunakan teknik matriks seperti eliminasi Gauss, metode invers matriks, atau aturan Cramer untuk menyelesaikan sistem secara lebih sistematis.\n",
    "Contoh Penerapan dalam Kehidupan Sehari-hari\n",
    "SPL sering digunakan dalam berbagai bidang, seperti ekonomi, teknik, dan sains. Misalnya:\n",
    "\n",
    "Dalam bisnis, untuk menentukan harga barang berdasarkan keuntungan dan biaya produksi.\n",
    "Dalam fisika, untuk menghitung kecepatan dan waktu tempuh dua kendaraan yang bergerak dengan kecepatan berbeda.\n",
    "Dalam teknik, untuk menyelesaikan masalah keseimbangan gaya pada struktur bangunan.\n",
    "Sistem Persamaan Linier adalah konsep dasar dalam matematika yang sangat penting karena banyak digunakan dalam berbagai bidang ilmu dan aplikasi nyata.\n",
    "\n",
    "\n",
    "\n",
    "\n",
    "\n",
    "\n",
    "\n",
    "\n"
   ]
  },
  {
   "cell_type": "code",
   "execution_count": null,
   "metadata": {},
   "outputs": [],
   "source": [
    "from matplotlib import rcParams, cycler\n",
    "import matplotlib.pyplot as plt\n",
    "import numpy as np\n",
    "plt.ion()"
   ]
  },
  {
   "cell_type": "code",
   "execution_count": null,
   "metadata": {},
   "outputs": [],
   "source": [
    "# Fixing random state for reproducibility\n",
    "np.random.seed(19680801)\n",
    "\n",
    "N = 10\n",
    "data = [np.logspace(0, 1, 100) + np.random.randn(100) + ii for ii in range(N)]\n",
    "data = np.array(data).T\n",
    "cmap = plt.cm.coolwarm\n",
    "rcParams['axes.prop_cycle'] = cycler(color=cmap(np.linspace(0, 1, N)))\n",
    "\n",
    "\n",
    "from matplotlib.lines import Line2D\n",
    "custom_lines = [Line2D([0], [0], color=cmap(0.), lw=4),\n",
    "                Line2D([0], [0], color=cmap(.5), lw=4),\n",
    "                Line2D([0], [0], color=cmap(1.), lw=4)]\n",
    "\n",
    "fig, ax = plt.subplots(figsize=(10, 5))\n",
    "lines = ax.plot(data)\n",
    "ax.legend(custom_lines, ['Cold', 'Medium', 'Hot']);"
   ]
  },
  {
   "cell_type": "markdown",
   "metadata": {},
   "source": [
    "There is a lot more that you can do with outputs (such as including interactive outputs)\n",
    "with your book. For more information about this, see [the Jupyter Book documentation](https://jupyterbook.org)"
   ]
  }
 ],
 "metadata": {
  "kernelspec": {
   "display_name": "Python 3",
   "language": "python",
   "name": "python3"
  },
  "language_info": {
   "codemirror_mode": {
    "name": "ipython",
    "version": 3
   },
   "file_extension": ".py",
   "mimetype": "text/x-python",
   "name": "python",
   "nbconvert_exporter": "python",
   "pygments_lexer": "ipython3",
   "version": "3.8.0"
  },
  "widgets": {
   "application/vnd.jupyter.widget-state+json": {
    "state": {},
    "version_major": 2,
    "version_minor": 0
   }
  }
 },
 "nbformat": 4,
 "nbformat_minor": 4
}
